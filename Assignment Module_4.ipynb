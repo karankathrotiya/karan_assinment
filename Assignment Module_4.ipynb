{
 "cells": [
  {
   "cell_type": "code",
   "execution_count": null,
   "id": "ac11e4e0",
   "metadata": {},
   "outputs": [],
   "source": [
    "# 1.] What is File function in python? What is keywords to create and write file.\n",
    "# A file object allows us to use, access and manipulate all the user accessible files. \n",
    "# for create new file we use 'x' and for write in created file then we use 'w'\n",
    "# X-> create new file\n",
    "# A-> append newline from last line ended\n",
    "# W-> write new lines\n",
    "# R-> read the file lines"
   ]
  },
  {
   "cell_type": "code",
   "execution_count": null,
   "id": "6132d861",
   "metadata": {},
   "outputs": [],
   "source": [
    "# 2.] Write a Python program to read an entire text file.\n",
    "\n",
    "\n",
    "f1 = open('new.txt','r')\n",
    "print(f1.read())\n",
    "print(f1.readlines())\n",
    "f1.close()"
   ]
  },
  {
   "cell_type": "code",
   "execution_count": null,
   "id": "2e71a6f5",
   "metadata": {},
   "outputs": [],
   "source": [
    "# 3.] Write a Python program to append text to a file and display the text.\n",
    "# f1=open('newfile.txt','a')\n",
    "# f1.write('right now i am learning python from tops technologies')\n",
    "# f1.close()\n",
    "# f1=open('newfile.txt','r')\n",
    "# print(f1.read())\n",
    "# f1.close()\n",
    "f1=open('newfile.txt','r')\n",
    "print(f1.read())\n",
    "# f1.close()"
   ]
  },
  {
   "cell_type": "code",
   "execution_count": null,
   "id": "3111a49b",
   "metadata": {},
   "outputs": [],
   "source": [
    "# 4.] Write a Python program to read first n lines of a file.\n",
    "f1=open('newfile.txt','r')\n",
    "# f1.read()\n",
    "f1.readlines()\n",
    "# f1.close()\n",
    "for i in list1[1]:\n",
    "    print(i,end='')"
   ]
  },
  {
   "cell_type": "code",
   "execution_count": null,
   "id": "c696abeb",
   "metadata": {},
   "outputs": [],
   "source": [
    "# 5.] Write a Python program to read last n lines of a file.\n",
    "f1=open('newfile.txt','r')\n",
    "list1=f1.readlines()"
   ]
  },
  {
   "cell_type": "code",
   "execution_count": null,
   "id": "beace4ac",
   "metadata": {},
   "outputs": [],
   "source": [
    "# 6.]Write a Python program to read a file line by line and store it into a list\n",
    "f1=open('newfile.txt','r')\n",
    "list1=f1.readlines()\n",
    "print(list1)"
   ]
  },
  {
   "cell_type": "code",
   "execution_count": null,
   "id": "e9a173a2",
   "metadata": {},
   "outputs": [],
   "source": [
    "#  7.]Write a Python program to read a file line by line store it into a variable.\n",
    "f1=open('newfile.txt','r')\n",
    "var1=f1.readlines()\n",
    "print(var1)\n",
    "\n",
    "for i in var1:\n",
    "    print(i)\n"
   ]
  },
  {
   "cell_type": "code",
   "execution_count": null,
   "id": "966e3fed",
   "metadata": {},
   "outputs": [],
   "source": [
    "# 8.] Write a python program to find the longest words.\n",
    "# list1=['hello','world' ,'zpython devloper','ztops']\n",
    "# print((max(list1,key=len)),'is longest word')\n",
    "\n",
    "f1=open('newfile.txt','r')\n",
    "f2=f1.read()\n",
    "str1=str(f2)\n",
    "print(f2)\n",
    "l1=str1.split()\n",
    "print(max(l1,key=len))"
   ]
  },
  {
   "cell_type": "code",
   "execution_count": null,
   "id": "59d90f49",
   "metadata": {},
   "outputs": [],
   "source": [
    "# 9.] Write a Python program to count the number of lines in a text file.\n",
    "f1=open('newfile.txt','r')\n",
    "var1=len(f1.readlines())\n",
    "print(var1)"
   ]
  },
  {
   "cell_type": "code",
   "execution_count": null,
   "id": "6434fb83",
   "metadata": {},
   "outputs": [],
   "source": [
    "# 10.] Write a Python program to count the frequency of words in a file.\n",
    "f1=open('newfile.txt','r')\n",
    "f2=f1.read()\n",
    "str1=str(f2)\n",
    "print(f2)\n",
    "l1=str1.split()\n",
    "print(l1)\n",
    "temp=''\n",
    "for i in l1:\n",
    "    if i in temp:\n",
    "        pass\n",
    "    else:\n",
    "        temp+=i \n",
    "        print(i,'=',l1.count(i),end=' , ')"
   ]
  },
  {
   "cell_type": "code",
   "execution_count": null,
   "id": "5f962dcb",
   "metadata": {},
   "outputs": [],
   "source": [
    "# 11.] Write a Python program to write a list to a file.\n",
    "# f1=open('newfile.txt','a')\n",
    "# f1.write('[1,2,3,4,5]')\n",
    "# print(f1)\n",
    "# f1.close()\n",
    "f1=open('newfile.txt','r')\n",
    "print(f1.read())"
   ]
  },
  {
   "cell_type": "code",
   "execution_count": null,
   "id": "c1c7b5fa",
   "metadata": {},
   "outputs": [],
   "source": [
    "# 12.] )Write a Python program to copy the contents of a file to another file.\n",
    "f1=open('newfile.txt','r')\n",
    "old_file=f1.readlines()\n",
    "# print(old_file)\n",
    "# f1.close()\n",
    "f2=open('another_file.txt','w')\n",
    "f2.write(f1.read())\n",
    "f2=open('newfile.txt','r')\n",
    "print(f2.read())\n",
    "f2.close("
   ]
  },
  {
   "cell_type": "code",
   "execution_count": null,
   "id": "dd857fad",
   "metadata": {},
   "outputs": [],
   "source": [
    "# 13.]  Explain Exception handling? What is an Error in Python?\n",
    "# when we write a code we know/thought where is the error occers so \n",
    "# we use exception handling(try & except)\n",
    "# to resolve the error without stoping compiler,because if error on first line then code stops on \n",
    "# first line and code excution break.\n",
    "# errors apart from SyntexError are including exception handling.\n",
    "# major types of error:-\n",
    "#    1 NameError\n",
    "#    2 TypeError\n",
    "#    3 ValueError\n",
    "#    4 IndexError\n",
    "#    5 KeyError\n",
    "#    6 ZeroDivisionError"
   ]
  },
  {
   "cell_type": "code",
   "execution_count": null,
   "id": "31bff7cd",
   "metadata": {},
   "outputs": [],
   "source": [
    "# 14'] How many except statements can a try-except block have? Name Some built-in exception classes:\n",
    "# try and except have multiple block in code just we use one try boc then except boc.\n",
    "# below exception class:-\n",
    "#    1 NameError\n",
    "#    2 TypeError\n",
    "#    3 ValueError\n",
    "#    4 IndexError\n",
    "#    5 KeyError\n",
    "#    6 ZeroDivisionError\n",
    "# if we dont know the error then we use except block for rest of errors."
   ]
  },
  {
   "cell_type": "code",
   "execution_count": null,
   "id": "e0252b1e",
   "metadata": {},
   "outputs": [],
   "source": [
    "# 15.] When will the else part of try-except-else be executed?\n",
    "# the else part is excuted when no exception occers. "
   ]
  },
  {
   "cell_type": "code",
   "execution_count": null,
   "id": "d82c973f",
   "metadata": {},
   "outputs": [],
   "source": [
    "# 16.]  Can one block of except statements handle multiple exception?\n",
    "# yes one block of except statements handle multiple exception \n",
    "# in this there is IndexError occers because in list1 has 3 elements whick index position is [0,1,2]\n",
    "# but we use one default exception block to solve this errer\n",
    "try:\n",
    "    a=int(input('enter the input'))\n",
    "    print(10/a)\n",
    "    list1=[1,2,3]\n",
    "    for i in range(8):\n",
    "        print(list1[i])\n",
    "# except ValueError:\n",
    "#     print('value')        \n",
    "except:\n",
    "    print('except block is run')"
   ]
  },
  {
   "cell_type": "code",
   "execution_count": null,
   "id": "6ea5f808",
   "metadata": {},
   "outputs": [],
   "source": [
    "# 17.] When is the finally block executed?\n",
    "# it will excute always/everytime with or without exception raised.\n",
    "# we use it for utility tasks"
   ]
  },
  {
   "cell_type": "code",
   "execution_count": null,
   "id": "3b229cd7",
   "metadata": {},
   "outputs": [],
   "source": [
    "# 18.] What happens when „1‟== 1 is executed?\n",
    "\"1\"==1\n",
    "Ans->false"
   ]
  },
  {
   "cell_type": "code",
   "execution_count": null,
   "id": "53bf77b8",
   "metadata": {},
   "outputs": [],
   "source": [
    "#  19.] How Do You Handle Exceptions With Try/Except/Finally In Python? Explain with coding snippets.\n",
    "# i comment one by one both exception boc finally boc is always run.\n",
    "try:\n",
    "    a=int(input('enter the input'))\n",
    "    print(10/a)\n",
    "    list1=[1,2,3]\n",
    "    for i in range(8):\n",
    "        print(list1[i])\n",
    "except ValueError:\n",
    "    print('value')        \n",
    "# except:\n",
    "#     print('except block is run')\n",
    "finally:\n",
    "    print('finally block is run')"
   ]
  },
  {
   "cell_type": "code",
   "execution_count": null,
   "id": "2c5b1a39",
   "metadata": {},
   "outputs": [],
   "source": [
    "# 20.] Write python program that user to enter only odd numbers, else will raise an exception.\n",
    "class EvenError(Exception):\n",
    "    pass\n",
    "\n",
    "a= int(input())\n",
    "if a%2==0:\n",
    "    print('number is right')\n",
    "else:\n",
    "    raise EvenError('enter only odd number')"
   ]
  },
  {
   "cell_type": "code",
   "execution_count": null,
   "id": "ad8a43de",
   "metadata": {},
   "outputs": [],
   "source": [
    "# 21.]  What are oops concepts? Is multiple inheritance supported in java.\n",
    "# OOP (object-oriented programming) concepts in Python include Class, Object, Method, Inheritance,Polymorphism, \n",
    "# Abstraction, and Encapsulation.\n",
    "\n",
    "# multiple inheritance:Inheritance relationship defines the classes that inherit from other classes as derived class,\n",
    "# or sub-type classes or child classes\n",
    "# types of inheritance:\n",
    "# 1. single inheritance\n",
    "# 2. multiple inheritance\n",
    "# 3. multilevel inheritance\n",
    "# 4. Hierarchical Inheritance.\n",
    "# 5. Hybrid inheritance"
   ]
  },
  {
   "cell_type": "code",
   "execution_count": null,
   "id": "74a128c6",
   "metadata": {},
   "outputs": [],
   "source": [
    "# 22.]  How to Define a Class in Python? What Is Self? Give An Example Of A python Class.\n",
    "# 'class' key word can be define the class.\n",
    "# self:- The self parameter is a reference to the current instance of the class,\n",
    "# and is used to access variables that belongs to the class.\n",
    "class A:\n",
    "    sub='math'\n",
    "    def __init__(self,subject,marks):\n",
    "        self.subject=subject\n",
    "        self.marks=marks\n",
    "    def some(self):\n",
    "        print('something try it')\n",
    "obj1=A('science',98)\n",
    "obj1.marks\n",
    "obj1.some()  "
   ]
  },
  {
   "cell_type": "code",
   "execution_count": null,
   "id": "1e68cf0f",
   "metadata": {},
   "outputs": [],
   "source": [
    "# 23.] Write a Python class named Rectangle constructed by a length and width and a method which will compute the area of a rectangle\n",
    "class Rectangle():\n",
    "    def __init__(self,length,width):\n",
    "        self.length=length\n",
    "        self.width=width\n",
    "    def Area(self):\n",
    "        a=self.length*self.width\n",
    "        print('area : ',a)\n",
    "\n",
    "obj2=Rectangle(12,32)\n",
    "obj2.Area()"
   ]
  },
  {
   "cell_type": "code",
   "execution_count": null,
   "id": "2354dcc3",
   "metadata": {},
   "outputs": [],
   "source": [
    "# 24.]Write a Python class named Circle constructed by a radius and two methods which will \n",
    "# compute the area and the perimeter of a circle.\n",
    "from math import pi\n",
    "class Circle():\n",
    "    def __init__(self,radius):\n",
    "        self.radius=radius\n",
    "    \n",
    "    def Area(self):\n",
    "        area=self.radius**2*pi\n",
    "        print('area of circle : ',area)\n",
    "        \n",
    "        \n",
    "    def Perimeter(self):\n",
    "        print('perimeter of circle : ',2*self.radius*pi)\n",
    "obj2=Circle(12)\n",
    "obj2.Area()\n",
    "obj2.Perimeter()"
   ]
  },
  {
   "cell_type": "code",
   "execution_count": null,
   "id": "99ff0962",
   "metadata": {},
   "outputs": [],
   "source": [
    "# 25.] Explain Inheritance in Python with an example? What is init? Or What Is A Constructor In Python?\n",
    "# inheritance: Inheritance relationship defines the classes that inherit from other classes as derived class,\n",
    "# subclass, or sub-type classes.\n",
    "# example:  For example, you have a Base class of “Animal” and a “Lion” is a Derived class.\n",
    "# The inheritance will be Lion is an Animal.\n",
    "#  For example, you have a Base class of “human” and a “male” is a Derived class.\n",
    "# The inheritance will be male is an human.\n",
    "# what is init: The __init__ function is called every time an object is created from a class. \n",
    "# The __init__ method lets the class initialize the object's attributes and serves no other purpose.\n",
    "# It is only used within classes.\n",
    "\n",
    "# What Is A Constructor In Python?\n",
    "# A constructor is a special type of method (function) which is used to initialize the instance members of the class.\n",
    "# exam:__init__(function)"
   ]
  },
  {
   "cell_type": "code",
   "execution_count": null,
   "id": "19c1a790",
   "metadata": {},
   "outputs": [],
   "source": [
    "# 26.]"
   ]
  },
  {
   "cell_type": "code",
   "execution_count": null,
   "id": "7537e4a9",
   "metadata": {},
   "outputs": [],
   "source": []
  }
 ],
 "metadata": {
  "kernelspec": {
   "display_name": "Python 3 (ipykernel)",
   "language": "python",
   "name": "python3"
  },
  "language_info": {
   "codemirror_mode": {
    "name": "ipython",
    "version": 3
   },
   "file_extension": ".py",
   "mimetype": "text/x-python",
   "name": "python",
   "nbconvert_exporter": "python",
   "pygments_lexer": "ipython3",
   "version": "3.9.12"
  }
 },
 "nbformat": 4,
 "nbformat_minor": 5
}
