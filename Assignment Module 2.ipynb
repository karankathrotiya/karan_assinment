{
 "cells": [
  {
   "cell_type": "code",
   "execution_count": null,
   "id": "71fec5bd",
   "metadata": {},
   "outputs": [],
   "source": [
    "# Module :--- 2.\n",
    "\n",
    "# 1.] Python Program to Check if a Number is Positive, Negative or 0 :-\n",
    "\n",
    "a = int(input())\n",
    "\n",
    "if a > 0:\n",
    "    print(\"Positive number\")\n",
    "elif a == 0:\n",
    "    print('Zero')\n",
    "else:\n",
    "    print(\"Negetive number\")"
   ]
  },
  {
   "cell_type": "code",
   "execution_count": null,
   "id": "ff44b607",
   "metadata": {},
   "outputs": [],
   "source": [
    "# 2.] Python Program to find whether a given number is even or odd, print out an appropriate message to the user :-\n",
    "\n",
    "a = int(input())\n",
    "\n",
    "if a % 2 == 0:\n",
    "    print(\"Even number\") \n",
    "else:\n",
    "    print(\"Odd number\")"
   ]
  },
  {
   "cell_type": "code",
   "execution_count": null,
   "id": "ed8467df",
   "metadata": {},
   "outputs": [],
   "source": [
    "# 3.] Write python program that swap two number with temp variable and without temp variable :-\n",
    "\n",
    "a = int(input(\"First Number:-\"))\n",
    "b = int(input(\"Second Number:-\"))\n",
    "print(\"value of a before swapping\",a)\n",
    "print(\"value of b before swapping\",b)\n",
    "temp = a\n",
    "a = b\n",
    "b = temp\n",
    "print('value a after swapping',a)\n",
    "print('value b after swapping',b)\n",
    "\n"
   ]
  },
  {
   "cell_type": "code",
   "execution_count": null,
   "id": "aa025673",
   "metadata": {},
   "outputs": [],
   "source": [
    "# 4.] Vovel or Not Vovel :-\n",
    "\n",
    "a = input()\n",
    "\n",
    "if a == 'a' or a == 'e' or a == 'i' or a == 'o' or a == 'u' or a == 'A' or a == 'E' or a == 'I' or a == 'O' or a == 'U':\n",
    "    print(\"vovel\")\n",
    "else:\n",
    "    print(\"Not vovel\")\n",
    "    "
   ]
  },
  {
   "cell_type": "code",
   "execution_count": null,
   "id": "14a3248b",
   "metadata": {},
   "outputs": [],
   "source": [
    "# 5.] write a pyhton program to sum of three given integers. However, if two values are equal sum will be zero:-\n",
    "\n",
    "a = int (input('first number: '))\n",
    "b = int (input('second number: '))\n",
    "c = int (input('third number: '))\n",
    "sum = a+b+c\n",
    "if a == b or b == c or c == a:\n",
    "    print('zero')\n",
    "else:\n",
    "    print(sum)"
   ]
  },
  {
   "cell_type": "code",
   "execution_count": null,
   "id": "797b4678",
   "metadata": {},
   "outputs": [],
   "source": [
    "# 6.] write a python program that will return true if the two given intger valus are equal or their sum or difference is 5:-\n",
    "\n",
    "a = int(input('first number: '))\n",
    "b = int(input('second number: '))\n",
    "if a == b or a+b == 5 or a-b == 5:\n",
    "    print('true')\n",
    "else:\n",
    "    print('false')"
   ]
  },
  {
   "cell_type": "code",
   "execution_count": null,
   "id": "0755137a",
   "metadata": {},
   "outputs": [],
   "source": [
    "# 7.] write a python program to get factorial number to given number:-\n",
    "\n",
    "k=int(input())\n",
    "j=1\n",
    "for i in range(1,k+1):\n",
    "    j=j*i\n",
    "print(k,j)    "
   ]
  },
  {
   "cell_type": "code",
   "execution_count": null,
   "id": "1d460d60",
   "metadata": {},
   "outputs": [],
   "source": [
    "# 8.] write a python program to calculate the length of a string:-\n",
    "\n",
    "a = str(input())\n",
    "b = 0\n",
    "for i in a:\n",
    "    b=b+1\n",
    "print(b)"
   ]
  },
  {
   "cell_type": "code",
   "execution_count": null,
   "id": "9d2be371",
   "metadata": {},
   "outputs": [],
   "source": [
    "# 9.] write a python program to calculate the length of a integers:-\n",
    "\n",
    "a = (input())\n",
    "b = 0\n",
    "for i in a:\n",
    "    b=b+1\n",
    "print(b)"
   ]
  },
  {
   "cell_type": "code",
   "execution_count": null,
   "id": "9f39144a",
   "metadata": {},
   "outputs": [],
   "source": [
    "# 10.]  write a pyhton program to sum of the first n positive integers:-\n",
    "\n",
    "a = int(input())\n",
    "k = 0\n",
    "for i in range(1,a+1):\n",
    "    k=k+i\n",
    "print(a,k)"
   ]
  },
  {
   "cell_type": "code",
   "execution_count": null,
   "id": "cde5c5a9",
   "metadata": {},
   "outputs": [],
   "source": [
    "# 11.] Calculate the length of string:-\n",
    "\n",
    "str1 = input()\n",
    "str2 = 0\n",
    "for i in str1:\n",
    "    str2 += 1\n",
    "len(str1)    \n",
    "    "
   ]
  },
  {
   "cell_type": "code",
   "execution_count": null,
   "id": "974c8bfb",
   "metadata": {},
   "outputs": [],
   "source": [
    "# 12.] Fibonacci series:-\n",
    "\n",
    "int1 = int(input())\n",
    "\n",
    "int2 = 0\n",
    "int3 = 1\n",
    "totl = 0\n",
    "\n",
    "if int1 <= 0:\n",
    "    print(\"Enter the number:-\")\n",
    "elif int1 == 1:\n",
    "    print(\"Fibonacci series up to\",int1),\n",
    "    print(str2)\n",
    "else:\n",
    "    print(\"Fibonacci series is\")\n",
    "    while totl < int1:\n",
    "        print(int2)\n",
    "        a = int2 + int3\n",
    "        int2 = int3\n",
    "        int3 = a\n",
    "        totl += 1\n"
   ]
  },
  {
   "cell_type": "code",
   "execution_count": null,
   "id": "0dafd237",
   "metadata": {},
   "outputs": [],
   "source": [
    "# 13.] What are negative indexes and why are they used?\n",
    "\n",
    "\"\"\"In python, indexes can be of two types one is positive starts from 0 and 1 and 2 and so\n",
    "   forth while second is negative that starts from -1and -2 and so forth. The negative index is\n",
    "   also used show the index to represent the string in correct order.\"\"\""
   ]
  },
  {
   "cell_type": "code",
   "execution_count": null,
   "id": "569777b9",
   "metadata": {},
   "outputs": [],
   "source": [
    "# 14.] Count occurrences of a substring in a string:-\n",
    "hint = \"python is popular programming language\"\n",
    "print(hint.count('p'))"
   ]
  },
  {
   "cell_type": "code",
   "execution_count": null,
   "id": "f446e6cf",
   "metadata": {},
   "outputs": [],
   "source": [
    "# 15.] Write a Python program to count the number of characters (character frequency) in a string:-\n",
    "\n",
    "karan = \"pythonn\"\n",
    "my_char = \"n\"\n",
    "print(karan.count(my_char))"
   ]
  },
  {
   "cell_type": "code",
   "execution_count": null,
   "id": "474baa66",
   "metadata": {},
   "outputs": [],
   "source": [
    "# 16.] Write a Python program to count the occurrences of each word in a given sentence\n",
    "\n",
    "abc = \"python is popular programming language, python\"\n",
    "data = abc\n",
    "print(data.count(\"python\"))"
   ]
  },
  {
   "cell_type": "code",
   "execution_count": null,
   "id": "c753e89c",
   "metadata": {},
   "outputs": [],
   "source": [
    "# 17.] Write a python program to get a single string from two given stings, seprated by a space and swap the first two characters of each string:-\n",
    "\n",
    "str1 = input(\"First string:-\")\n",
    "str2 = input(\"Second string:-\")\n",
    "\n",
    "a=str1[0:2]\n",
    "str1= str1.replace(str1[0:2],str2[0:2])\n",
    "str2=str2.replace(str2[0:2],a)\n",
    "\n",
    "print(str1, str2)\n"
   ]
  },
  {
   "cell_type": "code",
   "execution_count": null,
   "id": "3d44aa03",
   "metadata": {},
   "outputs": [],
   "source": [
    "# 18.] Write a Python program to add 'ing' at the end of a given string (length\n",
    "# should be at least 3). If the given string already ends with 'ing' then add 'ly'\n",
    "# insteadif the string length of the given string is less than 3, leave it\n",
    "# unchanged\n",
    "\n",
    "str1 = input()\n",
    "if len(str1) < 3:\n",
    "    print(str1)\n",
    "elif str1[-3:] == 'ing':\n",
    "    print(str1 + 'ly')\n",
    "else:\n",
    "    print(str1 + 'ing')"
   ]
  },
  {
   "cell_type": "code",
   "execution_count": 5,
   "id": "dd95e287",
   "metadata": {},
   "outputs": [
    {
     "name": "stdout",
     "output_type": "stream",
     "text": [
      "he is good student good else poor but after not something good\n"
     ]
    }
   ],
   "source": [
    "#  19.]Write a Python program to find the first appearance of the substring 'not'\n",
    "# and 'poor' froma given string, if 'not' follows the 'poor', replace the whole\n",
    "# 'not'...'poor'substring with 'good'. Return the resulting string.\n",
    "\n",
    "str1 = 'he is not poor student not something poor else poor but after not something not poor'\n",
    "for something in range(str1.count('not')):\n",
    "    if str1.find('not') < str1.find('poor'):\n",
    "        start_point = str1.find('not')\n",
    "        end_point = str1.find('poor')+4\n",
    "        to_be_replace = str1[start_point : end_point]\n",
    "        replacement = 'good'\n",
    "        str1 = str1.replace(to_be_replace, replacement)\n",
    "    else:\n",
    "        str1 =str1\n",
    "print(str1) "
   ]
  },
  {
   "cell_type": "code",
   "execution_count": 8,
   "id": "b79a1a96",
   "metadata": {},
   "outputs": [
    {
     "name": "stdout",
     "output_type": "stream",
     "text": [
      "Empty String\n"
     ]
    }
   ],
   "source": [
    "# 20.] Write a Python function to reverses a string if its length is a multiple of 4.\n",
    "#  Write a Python program to get a string made of the first 2 and the last 2\n",
    "# chars from a given a string. Ifthe string length islessthan 2,return instead\n",
    "# of the empty string.\n",
    "# o Sample String:w3resource'\n",
    "# o Expected Result: 'w3ce'\n",
    "# o Sample String: 'w3'\n",
    "# o Expected Result: 'w3w3'\n",
    "# o Sample String: ' w'\n",
    "# o Expected Result: Empty String\n",
    "\n",
    "# given_string = 'w3resource'\n",
    "# if len(given_string) < 2:\n",
    "#     print('')\n",
    "# else:\n",
    "#     final = given_string[:2] + given_string[-2:]\n",
    "#     print(final)\n",
    "\n",
    "# given_string = 'w3'\n",
    "# if len(given_string) < 2:\n",
    "#     print('')\n",
    "# else:\n",
    "#     final = given_string[:2] + given_string[-2:]\n",
    "#     print(final)\n",
    "\n",
    "given_string = 'w'\n",
    "if len(given_string) < 2:\n",
    "    print('Empty String')\n",
    "else:\n",
    "    final = given_string[:2] + given_string[-2:]\n",
    "    print(final)"
   ]
  },
  {
   "cell_type": "code",
   "execution_count": null,
   "id": "56dd1cd6",
   "metadata": {},
   "outputs": [],
   "source": [
    "# 21.] What is the purpose continue statement in python?\n",
    "\n",
    "\"\"\"The continue statement in Pytjon returns the control to the beginning of the while loop.\n",
    "The continue statement rejects all the remaining statements in the current iteration of \n",
    "the loop and moves the control back to the top of the loop. The continue statement can be used in both while and for loops.\"\"\""
   ]
  }
 ],
 "metadata": {
  "kernelspec": {
   "display_name": "Python 3 (ipykernel)",
   "language": "python",
   "name": "python3"
  },
  "language_info": {
   "codemirror_mode": {
    "name": "ipython",
    "version": 3
   },
   "file_extension": ".py",
   "mimetype": "text/x-python",
   "name": "python",
   "nbconvert_exporter": "python",
   "pygments_lexer": "ipython3",
   "version": "3.9.12"
  }
 },
 "nbformat": 4,
 "nbformat_minor": 5
}
