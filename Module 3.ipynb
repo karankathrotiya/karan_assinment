{
 "cells": [
  {
   "cell_type": "code",
   "execution_count": null,
   "id": "e1581915",
   "metadata": {},
   "outputs": [],
   "source": [
    "# List :-\n",
    " \n",
    "\n",
    "# 1.] What is List? How will you reverse list?\n",
    "\n",
    "# => A list is a data structure in Python that is a mutable, or changeable, ordered sequence of elements.\n",
    "# Each element or value that is inside of a list is called an item. \n",
    "# Just as strings are defined as characters between quotes, lists are defined by having values between square brackets [ ] \n",
    "\n",
    "# Ex :- \n",
    "number = [2,3,4,5,8,9]\n",
    "number.reverse()\n",
    "print(number)"
   ]
  },
  {
   "cell_type": "code",
   "execution_count": null,
   "id": "a978da40",
   "metadata": {},
   "outputs": [],
   "source": [
    "# 2.] How will you remove last object from a list?\n",
    "#  use list. pop() method to remove the last element from the list. pop will raise index error if the list is empty.\n",
    "\n",
    "# Ex :-\n",
    "name = ['karan','jeel','sahil','darshit','pogo']\n",
    "name.pop()\n",
    "print(name)"
   ]
  },
  {
   "cell_type": "code",
   "execution_count": null,
   "id": "5b347e9d",
   "metadata": {},
   "outputs": [],
   "source": [
    "# 3.] Suppose list is [2,33,222,14,and 25],what is list1[-1]?\n",
    "\n",
    "# anwer:- 25 and [2,33,222,14]\n",
    "list1 = [2,33,222,14,25]\n",
    "list1[:-1]\n"
   ]
  },
  {
   "cell_type": "code",
   "execution_count": null,
   "id": "659901c9",
   "metadata": {},
   "outputs": [],
   "source": [
    "# 4.] Differentiate between append() and extend() methods?\n",
    "\n",
    "# append() method adds an element to a list, and the extend() method \n",
    "# concatenates the first list with another iterable. \n",
    "\n",
    "# Ex:-\n",
    "list1 = [8,9,12,45,6]\n",
    "list1.extend('34')\n",
    "print(list1)\n",
    "\n",
    "str1 = 'lion'\n",
    "list2 = [6,8,90,99]\n",
    "list2.append(str1)\n",
    "print(list2)"
   ]
  },
  {
   "cell_type": "code",
   "execution_count": null,
   "id": "af1f32e1",
   "metadata": {},
   "outputs": [],
   "source": [
    "# 5.] Write a Python function to get largest number,smallest num and sum of all from a list.\n",
    "\n",
    "list1 = []\n",
    "number = int(input('How many numbers: '))\n",
    "\n",
    "for n in range (number):\n",
    "    num = int(input('Enter the number '))\n",
    "    list1.append(num)\n",
    "    \n",
    "print(\"largest number:-\" ,max(list1), \"\\nsmallest number:-\", min(list1))  \n"
   ]
  },
  {
   "cell_type": "code",
   "execution_count": null,
   "id": "282b4edd",
   "metadata": {},
   "outputs": [],
   "source": [
    "# 6.] How will you compare two list?\n",
    "\n",
    "list1 = [12,23,25,88,1]\n",
    "list2 = [12,23,25,88,1]\n",
    "\n",
    "if list1 == list2:\n",
    "    print(\"list1 and list2 are equal\")\n",
    "else:\n",
    "    print(\"list1 and list2 are not equal\")"
   ]
  },
  {
   "cell_type": "code",
   "execution_count": null,
   "id": "4023d4ab",
   "metadata": {},
   "outputs": [],
   "source": [
    " # 7.]  Write a Python program to count the number of strings where the string \n",
    "# length is 2 or more and the first and last character are same from a given \n",
    "# list of strings\n",
    "\n",
    "def karan(word):\n",
    "    abc = 0\n",
    "    \n",
    "    for i in word:\n",
    "        if len(i) > 1 and i[0] == i[-1]:\n",
    "            abc += 1\n",
    "    return abc\n",
    "\n",
    "print(karan(['abc','xyz','aba','1221']))\n",
    " "
   ]
  },
  {
   "cell_type": "code",
   "execution_count": null,
   "id": "bc61b5d2",
   "metadata": {},
   "outputs": [],
   "source": [
    "# 8.] Write a Python program to remove duplicates from a list.\n",
    "\n",
    "list1 = [12,13,1,2,3,88,12,1,88,90,99,3,78]\n",
    "list2 = []\n",
    "\n",
    "for i in list1:\n",
    "    if i not in list2:\n",
    "        list2.append(i)\n",
    "        \n",
    "list1 = list2\n",
    "print(list1)"
   ]
  },
  {
   "cell_type": "code",
   "execution_count": null,
   "id": "bd9ebcc6",
   "metadata": {},
   "outputs": [],
   "source": [
    "# 9.] Write a Python program to check a list is empty or not.\n",
    "\n",
    "list1 = []\n",
    "if not list1:\n",
    "    print(\"empty\")"
   ]
  },
  {
   "cell_type": "code",
   "execution_count": null,
   "id": "4b39a6db",
   "metadata": {},
   "outputs": [],
   "source": [
    "# 10.] Write a Python function that takes two lists and returns true if they have at least one common member.\n",
    "\n",
    "def data (list1, list2):\n",
    "    karan = False\n",
    "    for a in list1:\n",
    "        for b in list2:\n",
    "            if a == b:\n",
    "                karan = True\n",
    "                return karan\n",
    "print(data([1,2,3,4,5,6], [6,7,8,9,10]))\n"
   ]
  },
  {
   "cell_type": "code",
   "execution_count": null,
   "id": "5490667c",
   "metadata": {},
   "outputs": [],
   "source": [
    "# 11.]  Write a Python program to generate and print a list of first and last 5 \n",
    "#               elements where the values are square of numbers between 1 and 30.\n",
    "\n",
    "\n",
    "def karan():\n",
    "    list1 = list()\n",
    "    for i in range(1,21):\n",
    "        list1.append(i**2)\n",
    "        print(list1[:5])\n",
    "        print(list1[-5:])\n",
    "karan()        "
   ]
  },
  {
   "cell_type": "code",
   "execution_count": null,
   "id": "f85ece0c",
   "metadata": {},
   "outputs": [],
   "source": [
    "# 12.] Write a Python function that takes a list and returns a new list with unique \n",
    "       # elements of the first list.\n",
    "    \n",
    "def value(v):\n",
    "    x = []\n",
    "    for a in v:\n",
    "        if a not in x:\n",
    "            x.append(a)\n",
    "    return x\n",
    "print(value([1,2,5,5,5,5,6,7,7,8,9,4,4]))"
   ]
  },
  {
   "cell_type": "code",
   "execution_count": null,
   "id": "c7754d66",
   "metadata": {},
   "outputs": [],
   "source": [
    "# 13.] Write a Python program to convert a list of characters into a string.\n",
    "\n",
    "str1 = ['K', 'a', 'r', 'a','n']\n",
    "str2 = ''.join(str1)\n",
    "print(str2)"
   ]
  },
  {
   "cell_type": "code",
   "execution_count": null,
   "id": "d13ca542",
   "metadata": {},
   "outputs": [],
   "source": [
    "# 14.] Write a Python program to select an item randomly from a list."
   ]
  },
  {
   "cell_type": "code",
   "execution_count": null,
   "id": "3f6fa3f5",
   "metadata": {},
   "outputs": [],
   "source": [
    "# 15.] Write a Python program to find the second smallest number in a list.\n",
    "\n",
    "lst1 = [23,4,5,6,7,4,4,4,23,35,45,78,78]\n",
    "s1 = set(lst1)\n",
    "lst1 = list(s1)\n",
    "lst1.sort()\n",
    "print(lst1[1])"
   ]
  },
  {
   "cell_type": "code",
   "execution_count": null,
   "id": "293931c5",
   "metadata": {},
   "outputs": [],
   "source": [
    "# 16.] Write a Python program to get unique values from a list\n",
    "\n",
    "list1 = [10, 20, 30, 40, 20, 50, 60, 40]\n",
    "print(list1)\n",
    "list2 = set(list1)\n",
    "new_list = list(list2)\n",
    "print(new_list)"
   ]
  },
  {
   "cell_type": "code",
   "execution_count": null,
   "id": "5a341eea",
   "metadata": {},
   "outputs": [],
   "source": [
    "# 17.] Write a Python program to check whether a list contains a sub list\n",
    "            \n",
    "list1 = [1,2,3,5,4]\n",
    "sub_list = [5,4]\n",
    "    \n",
    "sub_idx = list1.index(sub_list[0])\n",
    "if list1[sub_idx : sub_idx + len(sub_list)] == sub_list:\n",
    "    print('It exists')\n",
    "else:\n",
    "   print('Not exists')"
   ]
  },
  {
   "cell_type": "code",
   "execution_count": null,
   "id": "6472d78d",
   "metadata": {},
   "outputs": [],
   "source": [
    "# 18.] Write a Python program to split a list into different variables.\n",
    "\n",
    "color = [(\"karan(50,90,88)\"), (\"Raj(80,40,78)\"),\n",
    "         (\"karushik(20,50,60)\")]\n",
    "var1, var2, var3 = color\n",
    "print(var1)\n",
    "print(var2)\n",
    "print(var3)"
   ]
  },
  {
   "cell_type": "code",
   "execution_count": null,
   "id": "a5915b52",
   "metadata": {},
   "outputs": [],
   "source": [
    "# Tuple:-\n",
    "\n",
    "\n",
    "# 1.] What is tuple? Difference between list and tuple.\n",
    "\n",
    "'''Tuple is also a sequence data type that can contain elements of different data types, but these are immutable in nature. \n",
    "   In other words, a tuple is a collection of Python objects separated by commas. \n",
    "   The tuple is faster than the list because of static in nature.''' \n",
    "\n",
    "=> They are both used to store collection of data\n",
    "=> They are both heterogeneous data types means that you can store any kind of data type\n",
    "=> They are both ordered means the order in which you put the items are kept.\n",
    "=> They are both sequential data types so you can iterate over the items contained.\n",
    "=> Items of both types can be accessed by an integer index operator, provided in square brackets, [index]"
   ]
  },
  {
   "cell_type": "code",
   "execution_count": null,
   "id": "d94c555a",
   "metadata": {},
   "outputs": [],
   "source": [
    "# 2.] Write a Python program to create a tuple with different data types.\n",
    "\n",
    "karan = (\"tuple\", False, 3.2, 1)\n",
    "print(karan)"
   ]
  },
  {
   "cell_type": "code",
   "execution_count": null,
   "id": "89591ebd",
   "metadata": {},
   "outputs": [],
   "source": [
    "# 3.] Write a Python program to create a tuple with numbers.\n",
    "\n",
    "karan = 1,2,3,4,5,6\n",
    "print(karan)\n",
    "karan = 1,\n",
    "print(karan)"
   ]
  },
  {
   "cell_type": "code",
   "execution_count": null,
   "id": "f4ded7b6",
   "metadata": {},
   "outputs": [],
   "source": [
    "# 4.] Write a Python program to convert a tuple to a string.\n",
    "\n",
    "tup1 = ('k','a','r','a','n')\n",
    "str = ''.join(tup1)\n",
    "print(str)"
   ]
  },
  {
   "cell_type": "code",
   "execution_count": null,
   "id": "cf9c56f0",
   "metadata": {},
   "outputs": [],
   "source": [
    "# 5.] Write a Python program to check whether an element exists within a tuple.\n",
    "\n",
    "abc = ('a','b',3,'t',5,'o','p',55)\n",
    "print('o' in abc)\n",
    "print(9 in abc)"
   ]
  },
  {
   "cell_type": "code",
   "execution_count": null,
   "id": "54196d4e",
   "metadata": {},
   "outputs": [],
   "source": [
    "# 6.] Write a Python program to find the length of a tuple.\n",
    "\n",
    "xyz = tuple(\"karan\")\n",
    "print(xyz)\n",
    "print(len(xyz))"
   ]
  },
  {
   "cell_type": "code",
   "execution_count": null,
   "id": "5fa2abfe",
   "metadata": {},
   "outputs": [],
   "source": [
    "# 7.] Write a Python program to convert a list to a tuple.\n",
    "\n",
    "list1 = [1,2,3,4,5,6,7,8,9,10]\n",
    "print(list1)\n",
    "tup1 = tuple(list1)\n",
    "print(tup1)"
   ]
  },
  {
   "cell_type": "code",
   "execution_count": null,
   "id": "808720fc",
   "metadata": {},
   "outputs": [],
   "source": [
    "# 8.] Write a Python program to reverse a tuple.\n",
    "\n",
    "abc = (5,6,7,8)\n",
    "rev = reversed(abc)\n",
    "rev = tuple(rev)\n",
    "print(rev)"
   ]
  },
  {
   "cell_type": "code",
   "execution_count": null,
   "id": "ae3a6bff",
   "metadata": {},
   "outputs": [],
   "source": [
    "# 9.] Write a Python program to replace last value of tuples in a list.\n",
    "\n",
    "t1 = [(5,6,7,8,9,0)]\n",
    "print([t[:-1] + (10,) for t in t1])"
   ]
  },
  {
   "cell_type": "code",
   "execution_count": null,
   "id": "3b6ef430",
   "metadata": {},
   "outputs": [],
   "source": [
    "# 10.] Write a Python program to find the repeated items of a tuple.\n",
    "\n",
    "t1 = (5,6,4,4,8,8,8,8,1,2,8,7)\n",
    "print(t1.count(8))"
   ]
  },
  {
   "cell_type": "code",
   "execution_count": null,
   "id": "39cbdb23",
   "metadata": {},
   "outputs": [],
   "source": [
    "# 11.] Write a Python program to remove an empty tuple(s) from a list of tuples.\n",
    "\n",
    "K = [(), (), ('',), ('k'), ('a'), ('a','z','m')]\n",
    "K = [t for t in K if t]\n",
    "print(K)"
   ]
  },
  {
   "cell_type": "code",
   "execution_count": null,
   "id": "96624fc2",
   "metadata": {},
   "outputs": [],
   "source": [
    "# 12.] Write a Python program to unzip a list of tuples into individual lists.\n",
    "\n",
    "\n",
    "test_list = [('karan', 1), ('Bhano', 2), ('sahiliyo', 3), ('jeelyo', 4)]\n",
    "print (str(test_list))\n",
    "res = [[ i for i, j in test_list ],\n",
    "       [ j for i, j in test_list ]]\n",
    "print (str(res))"
   ]
  },
  {
   "cell_type": "code",
   "execution_count": null,
   "id": "43d7f8e1",
   "metadata": {},
   "outputs": [],
   "source": [
    "# Dictionary:-\n",
    "\n",
    "# 1.] Write a Python program to convert a list of tuples into a dictionary.\n",
    "\n",
    "l = [(\"x\", 1), (\"x\", 2), (\"x\", 3), (\"y\", 1), (\"y\", 2), (\"z\", 1)]\n",
    "d = {}\n",
    "for a, b in l:\n",
    "    d.setdefault(a, []).append(b)\n",
    "print (d)"
   ]
  },
  {
   "cell_type": "code",
   "execution_count": null,
   "id": "9a7c245a",
   "metadata": {},
   "outputs": [],
   "source": [
    "# 2.] How will you create a dictionary using tuples in python?\n",
    "\n",
    "t1 = ((500, \"karan\"),(300, \"raj\"))\n",
    "print(dict((y, x) for x, y in t1))"
   ]
  },
  {
   "cell_type": "code",
   "execution_count": 1,
   "id": "db0dfe2f",
   "metadata": {},
   "outputs": [
    {
     "name": "stdout",
     "output_type": "stream",
     "text": [
      "original dictionary =  {1: 'one', 2: 'two', 3: 'three', 4: 'four', 5: 'five'}\n",
      "Sorted dictionary in Acending = {5: 'five', 4: 'four', 1: 'one', 3: 'three', 2: 'two'}\n"
     ]
    }
   ],
   "source": [
    "# 3.]  Write a Python script to sort (ascending and descending) a dictionary by value.\n",
    "\n",
    "\n",
    "dictionary = {1:'one',2:'two',3:'three',4:'four',5:'five'}\n",
    "\n",
    "print('original dictionary = ',dictionary)\n",
    "list1 = list(dictionary.items())\n",
    "list2 = []\n",
    "\n",
    "for i in list1:\n",
    "    i = list(i)\n",
    "    i.reverse()\n",
    "    list2.insert(0,i)\n",
    "\n",
    "list2.reverse()\n",
    "list2.sort()\n",
    "count = 0\n",
    "list3 = []\n",
    "\n",
    "for i in list2:\n",
    "    i.reverse()\n",
    "    list3.insert(0,i)\n",
    "    count = count + 1  \n",
    "    \n",
    "list3.reverse()   \n",
    "dictionary_2 = {}\n",
    "dictionary_2.update(list2)\n",
    "dictionary.clear()\n",
    "dictionary = dictionary_2.copy()\n",
    "print('Sorted dictionary in Acending =',dictionary)"
   ]
  },
  {
   "cell_type": "code",
   "execution_count": null,
   "id": "2765a538",
   "metadata": {},
   "outputs": [],
   "source": [
    "# 4.] Write a Python script to concatenate following dictionaries to create a new one.\n",
    "\n",
    "dic1={1:10, 2:20}\n",
    "dic2={3:30, 4:40}\n",
    "dic3={5:50,6:60}\n",
    "dic4 = {}\n",
    "for d in (dic1, dic2, dic3): dic4.update(d)\n",
    "print(dic4)"
   ]
  },
  {
   "cell_type": "code",
   "execution_count": null,
   "id": "214e8ce7",
   "metadata": {},
   "outputs": [],
   "source": [
    "# 5.] Write a Python script to check if a given key already exists in a dictionary.\n",
    "\n",
    "d = {1: 10, 2: 20, 3: 30, 4: 40, 5: 50, 6: 60}\n",
    "def yes(x):\n",
    "    if x in d:\n",
    "        print('Key is exists')\n",
    "    else:\n",
    "        print('Key is not exists')\n",
    "yes(5)\n",
    "yes(9)"
   ]
  },
  {
   "cell_type": "code",
   "execution_count": null,
   "id": "a2f34481",
   "metadata": {},
   "outputs": [],
   "source": [
    "# 6.]  How Do You Traverse Through A Dictionary Object In Python?\n",
    "\n",
    "dict1 = {1:\"karan\",2:\"jay\",3:\"bhano\"}\n",
    "l1 =list(dict1.values())\n",
    "print(l1)"
   ]
  },
  {
   "cell_type": "code",
   "execution_count": null,
   "id": "86aeac69",
   "metadata": {},
   "outputs": [],
   "source": [
    "# 7.] How Do You Check The Presence Of A Key In A Dictionary?\n",
    "\n",
    "dict1 = {\"a\": 1, \"b\":2, \"c\":3}\n",
    "if \"a\" in dict1:\n",
    "    print(\"presence\")\n",
    "else:\n",
    "    print(\"not presence\")"
   ]
  },
  {
   "cell_type": "code",
   "execution_count": null,
   "id": "d7a2a3fb",
   "metadata": {},
   "outputs": [],
   "source": [
    "# 8.] Write a Python script to print a dictionary where the keys are numbers between 1 and 15.\n",
    "\n",
    "d=dict()\n",
    "for x in range(1,16):\n",
    "    d[x]=x**2\n",
    "print(d)"
   ]
  },
  {
   "cell_type": "code",
   "execution_count": null,
   "id": "064e8446",
   "metadata": {},
   "outputs": [],
   "source": [
    "# 9.] Write a Python program to check multiple keys exists in a dictionary\n",
    "\n",
    "student = {\n",
    "  'name': 'Karan',\n",
    "  'class': '12',\n",
    "  'roll': '52'\n",
    "}\n",
    "print(student.keys() >= {'class', 'name'})\n",
    "print(student.keys() >= {'name', 'Karan'})"
   ]
  },
  {
   "cell_type": "code",
   "execution_count": null,
   "id": "860e7574",
   "metadata": {},
   "outputs": [],
   "source": [
    "# 10.] Write a Python script to merge two Python dictionaries\n",
    "\n",
    "dic1 = {'a': 100, 'b': 200}\n",
    "dic2 = {'c': 300, 'd': 200}\n",
    "d = dic1.copy()\n",
    "d.update(dic2)\n",
    "print(d)"
   ]
  },
  {
   "cell_type": "code",
   "execution_count": null,
   "id": "9c22cc54",
   "metadata": {},
   "outputs": [],
   "source": [
    "# 11.] Write a Python program to map two lists into a dictionary\n",
    "\n",
    "dic1 = [\"Karan\", \"Raj\", \"Viraj\"]\n",
    "dic2 = [1, 4, 5]\n",
    "  \n",
    "print (str(dic1))\n",
    "print (str(dic2))\n",
    "  \n",
    "res = {}\n",
    "for key in dic1:\n",
    "    for value in dic2:\n",
    "        res[key] = value\n",
    "        dic2.remove(value)\n",
    "        break   \n",
    "print (str(res))"
   ]
  },
  {
   "cell_type": "code",
   "execution_count": null,
   "id": "55129640",
   "metadata": {},
   "outputs": [],
   "source": [
    "# 12.] Write a Python program to combine two dictionary adding values for \n",
    "# common keys.\n",
    "# o d1 = {'a': 100, 'b': 200, 'c':300}\n",
    "# o d2 = {'a': 300, 'b': 200,’d’:400}\n",
    "\n",
    "d1 = {'a': 100, 'b': 200, 'c':300}\n",
    "\n",
    "d2 = {'a': 300, 'b': 200, 'd':400}\n",
    "\n",
    "d3 = {}\n",
    "\n",
    "for i, j in d1.items():\n",
    "\n",
    "    for x, y in d2.items():\n",
    "\n",
    "        if i == x:\n",
    "\n",
    "            d3[i]=(j+y)\n",
    "\n",
    "print(d3)"
   ]
  },
  {
   "cell_type": "code",
   "execution_count": 2,
   "id": "fc62a234",
   "metadata": {},
   "outputs": [
    {
     "name": "stdout",
     "output_type": "stream",
     "text": [
      "{'a': 300, 'b': 200, 'c': 300, 'd': 400}\n",
      "{'a': 400, 'b': 400, 'c': 300, 'd': 400}\n"
     ]
    }
   ],
   "source": [
    "# 13.] Sample output: Counter ({'a': 400, 'b': 400,’d’: 400, 'c': 300}).\n",
    "\n",
    "d1 = {'a': 100, 'b': 200, 'c':300}\n",
    "d2 = {'a': 300, 'b': 200, 'd':400}\n",
    "\n",
    "\n",
    "d1 = {'a':100,'b':200,'c':300}\n",
    "d2 = {'a':300,'b':200,'d':400}\n",
    "temp = d1.copy()\n",
    "temp.update(d2)\n",
    "print(temp)\n",
    "\n",
    "for key in d1:\n",
    "    if key in d2:\n",
    "        temp[key] = d1[key]+d2[key]\n",
    "print(temp)"
   ]
  },
  {
   "cell_type": "code",
   "execution_count": null,
   "id": "9dab5ff1",
   "metadata": {},
   "outputs": [],
   "source": [
    "# 14.] Write a Python program to print all unique values in a dictionary.\n",
    "\n",
    "list1 = [{'xuv' : 1, 'bmw' : 2}, {'audi' : 1, 'scross' : 3}, {'cr' : 2}]\n",
    "abc = list(set(val for dic in list1 for val in dic.values()))\n",
    "print(str(abc))"
   ]
  },
  {
   "cell_type": "code",
   "execution_count": null,
   "id": "8e62c50f",
   "metadata": {},
   "outputs": [],
   "source": [
    "# 15.] Why Do You Use the Zip () Method in Python?\n",
    "\n",
    "'''Python's zip() function creates an iterator that will aggregate elements from two or more iterables. \n",
    "You can use the resulting iterator to quickly and consistently solve common programming problems,\n",
    "like creating dictionaries.'''\n",
    "\n",
    "# Ex:-\n"
   ]
  },
  {
   "cell_type": "code",
   "execution_count": null,
   "id": "447cec5f",
   "metadata": {},
   "outputs": [],
   "source": [
    "# 16.]Write a Python program to create and display all combinations of letters,\n",
    "# selecting each letter from a different key in a dictionary.\n",
    "# o Sample data: {'1': ['a','b'], '2': ['c','d']}\n",
    "# o Expected Output:\n",
    "# o ac ad bc bd\n",
    "count = 0\n",
    "dic = {'1':['a','b'], '2':['c','d']}   \n",
    "l = list(dic.values())\n",
    "print(l)\n",
    "\n",
    "count = 0\n",
    "j = 0\n",
    "for i in range(0,len(l[0])*len(l[1])):\n",
    "    if count >= len([1]):\n",
    "        print(l[0][1] + l[1][j])\n",
    "        j = j+1\n",
    "        if j == len(l[1]):\n",
    "            j = 0\n",
    "    else:\n",
    "        print(l[0][0] + l[1][j])\n",
    "        j = j+1\n",
    "        if j == len(l[1]):\n",
    "            j = 0\n",
    "    count = count +1"
   ]
  },
  {
   "cell_type": "code",
   "execution_count": 3,
   "id": "6400e39d",
   "metadata": {},
   "outputs": [
    {
     "name": "stdout",
     "output_type": "stream",
     "text": [
      "[34, 25, 68, 98, 13, 1, 100]\n",
      "highest value :- 100\n",
      "Second highest value :- 98\n",
      "Third highest value :- 68\n"
     ]
    }
   ],
   "source": [
    "# 17.]  Write a Python program to find the highest 3 values in a dictionary\n",
    "\n",
    "numbers = {'a':34,'b':25,'c':68,'d':98,'e':13,'f':1,'g':100}\n",
    "values = list(numbers.values())\n",
    "print(values)\n",
    "values.sort(reverse=True)\n",
    "print('highest value :-',values[0])\n",
    "print('Second highest value :-',values[1])\n",
    "print('Third highest value :-',values[2])"
   ]
  },
  {
   "cell_type": "code",
   "execution_count": null,
   "id": "c86e7149",
   "metadata": {},
   "outputs": [],
   "source": [
    "# 18.]  Write a Python program to combine values in python list of dictionaries. \n",
    "#Sample data: [{'item': 'item1', 'amount': 400}, {'item': 'item2', 'amount': 300},\n",
    "# o {'item': 'item1', 'amount': 750}]\n",
    "# o Expected Output: Counter ({'item1': 1150, 'item2': 300})\n",
    "\n",
    "a=[{'item': 'item1', 'amount': 400}, {'item': 'item2', 'amount': 300}, {'item': 'item1', 'amount': 750}]    \n",
    "cp={}\n",
    "val=0\n",
    "for d in a:\n",
    "    if d['item'] not in cp:\n",
    "        cp[d['item']]=d['amount']\n",
    "print(cp) "
   ]
  },
  {
   "cell_type": "code",
   "execution_count": null,
   "id": "f71ef698",
   "metadata": {},
   "outputs": [],
   "source": [
    "# 19.] Write a Python program to create a dictionary from a string.\n",
    "#o Note: Track the count of the letters from the string. Sample string:'w3resource'\n",
    "#o Expected output: {'3': 1,’s’: 1, 'r': 2, 'u': 1, 'w': 1, 'c': 1, 'e': 2, 'o': 1}\n",
    "\n",
    "my_string = 'w3resource'\n",
    "\n",
    "my_dict = {letter: my_string.count(letter) for letter in my_string}\n",
    "print(my_dict)"
   ]
  },
  {
   "cell_type": "code",
   "execution_count": null,
   "id": "7cd23d22",
   "metadata": {},
   "outputs": [],
   "source": [
    "# Function:-\n",
    "\n",
    "# 1.] Write a Python function to calculate the factorial of a number (a non-negative integer)\n",
    "\n",
    "def abc(n):\n",
    "    if n == 0:\n",
    "        return 1\n",
    "    else:\n",
    "        return n * abc(n-1)\n",
    "n=int(input())\n",
    "print(abc(n))"
   ]
  },
  {
   "cell_type": "code",
   "execution_count": null,
   "id": "2496843a",
   "metadata": {},
   "outputs": [],
   "source": [
    "# 2.] Write a Python function to check whether a number is in a given range\n",
    "\n",
    "def test_range(n):\n",
    "    if n in range(10,20):\n",
    "        print( \"Number %s is in the range\"%str(n))\n",
    "    else :\n",
    "        print(\"The number is outside the given range.\")\n",
    "test_range(15)"
   ]
  },
  {
   "cell_type": "code",
   "execution_count": null,
   "id": "73cdba29",
   "metadata": {},
   "outputs": [],
   "source": [
    "# 3.] Write a Python function to check whether a number is perfect or not.\n",
    "\n",
    "def is_perfect(n):\n",
    "\n",
    "    perfect_sum = 0\n",
    "    \n",
    "    for i in range(1,n):\n",
    "        if n%i==0:\n",
    "            perfect_sum += i\n",
    "\n",
    "    return perfect_sum == n\n",
    "\n",
    "number = int(input('Enter number: '))\n",
    "\n",
    "if is_perfect(number):\n",
    "    print('%d is PERFECT' %(number))\n",
    "else:\n",
    "    print('%d is NOT PERFECT' %(number))"
   ]
  },
  {
   "cell_type": "code",
   "execution_count": null,
   "id": "5e941afa",
   "metadata": {},
   "outputs": [],
   "source": [
    "# 4.] Write a Python function that checks whether a passed string is palindrome or not\n",
    "\n",
    "def isPalindrome(k):\n",
    "    return k == k[::-1]\n",
    " \n",
    " \n",
    "\n",
    "k = \"malayalam\"\n",
    "ans = isPalindrome(k)\n",
    " \n",
    "if ans:\n",
    "    print(\"Yes\")\n",
    "else:\n",
    "    print(\"No\")"
   ]
  },
  {
   "cell_type": "code",
   "execution_count": null,
   "id": "275c59c3",
   "metadata": {},
   "outputs": [],
   "source": [
    "# 5.] How do you perform pattern matching in Python? Explain\n",
    "\n"
   ]
  },
  {
   "cell_type": "code",
   "execution_count": 1,
   "id": "345ce934",
   "metadata": {},
   "outputs": [
    {
     "name": "stdout",
     "output_type": "stream",
     "text": [
      "[4, 6, 8, 12]\n"
     ]
    }
   ],
   "source": [
    "# 6.] What is lambda function in python? What we call a function which is incomplete version of a function?\n",
    "\n",
    "'''Lambda Function, also referred to as ‘Anonymous function’ is same as a regular python function but can be defined without a name.\n",
    "While normal functions are defined using the def keyword, anonymous functions are defined using the lambda keyword. \n",
    "However,they are restricted to single line of expression'''\n",
    "\n",
    "# Ex :-\n",
    "\n",
    "my_list = [1, 5, 4, 6, 8, 11, 3, 12]\n",
    "\n",
    "new_list = list(filter(lambda x: (x%2 == 0) , my_list))\n",
    "\n",
    "print(new_list)"
   ]
  },
  {
   "cell_type": "code",
   "execution_count": 2,
   "id": "a83f96a5",
   "metadata": {},
   "outputs": [
    {
     "name": "stdout",
     "output_type": "stream",
     "text": [
      "7\n"
     ]
    }
   ],
   "source": [
    "# 7.] How Many Basic Types Of Functions Are Available In Python?\n",
    "\n",
    "'''1). Built-in Functions:\n",
    "Built-in functions are the functions that are already written or defined in python.\n",
    "We only need to remember the names of built-in functions and the parameters used in the functions. As these functions are already defined so we do not need to define these functions. \n",
    "Below are some built-in functions of Python.'''\n",
    "\n",
    "'''len()\tIt returns the length of an object/value.\n",
    "list()\tIt returns a list.\n",
    "max()\tIt is used to return maximum value from a sequence (list,sets) etc.\n",
    "min()\tIt is used to return minimum value from a sequence (list,sets) etc.\n",
    "open()\tIt is used to open a file.\n",
    "print()\tIt is used to print statement.\n",
    "str()\tIt is used to return string object/value.\n",
    "sum()\tIt is used to sum the values inside sequence.\n",
    "type()\tIt is used to return the type of object.\n",
    "tuple()'''\n",
    "\n",
    "'''2). User-Defined Functions: \n",
    "The functions defined by a programmer to reduce the complexity of big problems and to use that function according to their need.\n",
    "This type of functions is called user-defined functions.'''\n",
    "\n",
    "# Ex:-\n",
    "x = 3\n",
    "y = 4\n",
    "def add():\n",
    "    print(x+y)\n",
    "    \n",
    "add()"
   ]
  },
  {
   "cell_type": "code",
   "execution_count": null,
   "id": "023e5402",
   "metadata": {},
   "outputs": [],
   "source": [
    "# 8.] How can you pick a random item from a list or tuple?\n",
    "\n"
   ]
  },
  {
   "cell_type": "code",
   "execution_count": null,
   "id": "451e93bf",
   "metadata": {},
   "outputs": [],
   "source": [
    "# 9.] How can you pick a random item from a range?\n",
    "\n"
   ]
  },
  {
   "cell_type": "code",
   "execution_count": null,
   "id": "caa722fd",
   "metadata": {},
   "outputs": [],
   "source": [
    "# 10.] How can you get a random number in python?"
   ]
  },
  {
   "cell_type": "code",
   "execution_count": null,
   "id": "2f133311",
   "metadata": {},
   "outputs": [],
   "source": [
    "# 11.] How will you set the starting value in generating random numbers?"
   ]
  },
  {
   "cell_type": "code",
   "execution_count": null,
   "id": "bd934802",
   "metadata": {},
   "outputs": [],
   "source": [
    "# 12.] How will you randomizes the items of a list in place?"
   ]
  },
  {
   "cell_type": "code",
   "execution_count": null,
   "id": "5425fe30",
   "metadata": {},
   "outputs": [],
   "source": [
    "# 13.] Write a Python program to read a random line from a file."
   ]
  },
  {
   "cell_type": "code",
   "execution_count": null,
   "id": "d781703d",
   "metadata": {},
   "outputs": [],
   "source": [
    "# 14.] Write a Python program to convert degree to radian"
   ]
  },
  {
   "cell_type": "code",
   "execution_count": null,
   "id": "91b285dc",
   "metadata": {},
   "outputs": [],
   "source": [
    "# 15.] Write a Python program to calculate the area of a trapezoid"
   ]
  },
  {
   "cell_type": "code",
   "execution_count": null,
   "id": "7a6ebe52",
   "metadata": {},
   "outputs": [],
   "source": [
    "# 16.] Write a Python program to calculate the area of a parallelogram"
   ]
  },
  {
   "cell_type": "code",
   "execution_count": null,
   "id": "75a4b10b",
   "metadata": {},
   "outputs": [],
   "source": [
    "# 17.]  Write a Python program to calculate surface volume and area of a cylinder"
   ]
  },
  {
   "cell_type": "code",
   "execution_count": 4,
   "id": "6cc8c718",
   "metadata": {},
   "outputs": [
    {
     "name": "stdout",
     "output_type": "stream",
     "text": [
      "7\n",
      "16\n"
     ]
    }
   ],
   "source": [
    "# 18.] Write a Python program to returns sum of all divisors of a number\n",
    "\n",
    "def sum_div(number):\n",
    "    divi = [1]\n",
    "    for i in range(2, number):\n",
    "        if (number % i)==0:\n",
    "            divi.append(i)\n",
    "    return sum(divi)\n",
    "print(sum_div(8))\n",
    "print(sum_div(12))"
   ]
  },
  {
   "cell_type": "code",
   "execution_count": 6,
   "id": "b91e331d",
   "metadata": {},
   "outputs": [
    {
     "name": "stdout",
     "output_type": "stream",
     "text": [
      "(75, -5)\n"
     ]
    }
   ],
   "source": [
    "# 19.] Write a Python program to find the maximum and minimum numbers from the specified decimal numbers.\n",
    "\n",
    "def max_min(data):\n",
    "    l = data[0]\n",
    "    s = data[0]\n",
    "    for num in data:\n",
    "        if num> l:\n",
    "            l = num\n",
    "        elif num< s:\n",
    "            s = num\n",
    "    return l, s\n",
    "\n",
    "print(max_min([0, 10, 15, 40, -5, 42, 17, 28, 75]))"
   ]
  },
  {
   "cell_type": "code",
   "execution_count": null,
   "id": "c924706a",
   "metadata": {},
   "outputs": [],
   "source": []
  }
 ],
 "metadata": {
  "kernelspec": {
   "display_name": "Python 3 (ipykernel)",
   "language": "python",
   "name": "python3"
  },
  "language_info": {
   "codemirror_mode": {
    "name": "ipython",
    "version": 3
   },
   "file_extension": ".py",
   "mimetype": "text/x-python",
   "name": "python",
   "nbconvert_exporter": "python",
   "pygments_lexer": "ipython3",
   "version": "3.9.12"
  }
 },
 "nbformat": 4,
 "nbformat_minor": 5
}
