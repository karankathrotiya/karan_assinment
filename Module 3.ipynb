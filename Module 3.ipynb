{
 "cells": [
  {
   "cell_type": "code",
   "execution_count": null,
   "id": "e1581915",
   "metadata": {},
   "outputs": [],
   "source": [
    "# List :-\n",
    " \n",
    "\n",
    "# 1.] What is List? How will you reverse list?\n",
    "\n",
    "# => A list is a data structure in Python that is a mutable, or changeable, ordered sequence of elements.\n",
    "# Each element or value that is inside of a list is called an item. \n",
    "# Just as strings are defined as characters between quotes, lists are defined by having values between square brackets [ ] \n",
    "\n",
    "# Ex :- \n",
    "number = [2,3,4,5,8,9]\n",
    "number.reverse()\n",
    "print(number)"
   ]
  },
  {
   "cell_type": "code",
   "execution_count": null,
   "id": "a978da40",
   "metadata": {},
   "outputs": [],
   "source": [
    "# 2.] How will you remove last object from a list?\n",
    "#  use list. pop() method to remove the last element from the list. pop will raise index error if the list is empty.\n",
    "\n",
    "# Ex :-\n",
    "name = ['karan','jeel','sahil','darshit','pogo']\n",
    "name.pop()\n",
    "print(name)"
   ]
  },
  {
   "cell_type": "code",
   "execution_count": null,
   "id": "5b347e9d",
   "metadata": {},
   "outputs": [],
   "source": [
    "# 3.] Suppose list is [2,33,222,14,and 25],what is list1[-1]?\n",
    "\n",
    "# anwer:- 25 and [2,33,222,14]\n",
    "list1 = [2,33,222,14,25]\n",
    "list1[:-1]\n"
   ]
  },
  {
   "cell_type": "code",
   "execution_count": null,
   "id": "659901c9",
   "metadata": {},
   "outputs": [],
   "source": [
    "# 4.] Differentiate between append() and extend() methods?\n",
    "\n",
    "# append() method adds an element to a list, and the extend() method \n",
    "# concatenates the first list with another iterable. \n",
    "\n",
    "# Ex:-\n",
    "list1 = [8,9,12,45,6]\n",
    "list1.extend('34')\n",
    "print(list1)\n",
    "\n",
    "str1 = 'lion'\n",
    "list2 = [6,8,90,99]\n",
    "list2.append(str1)\n",
    "print(list2)"
   ]
  },
  {
   "cell_type": "code",
   "execution_count": null,
   "id": "af1f32e1",
   "metadata": {},
   "outputs": [],
   "source": [
    "# 5.] Write a Python function to get largest number,smallest num and sum of all from a list.\n",
    "\n",
    "list1 = []\n",
    "number = int(input('How many numbers: '))\n",
    "\n",
    "for n in range (number):\n",
    "    num = int(input('Enter the number '))\n",
    "    list1.append(num)\n",
    "    \n",
    "print(\"largest number:-\" ,max(list1), \"\\nsmallest number:-\", min(list1))  \n"
   ]
  },
  {
   "cell_type": "code",
   "execution_count": null,
   "id": "282b4edd",
   "metadata": {},
   "outputs": [],
   "source": [
    "# 6.] How will you compare two list?\n",
    "\n",
    "list1 = [12,23,25,88,1]\n",
    "list2 = [12,23,25,88,1]\n",
    "\n",
    "if list1 == list2:\n",
    "    print(\"list1 and list2 are equal\")\n",
    "else:\n",
    "    print(\"list1 and list2 are not equal\")"
   ]
  },
  {
   "cell_type": "code",
   "execution_count": null,
   "id": "4023d4ab",
   "metadata": {},
   "outputs": [],
   "source": [
    " # 7.]  Write a Python program to count the number of strings where the string \n",
    "# length is 2 or more and the first and last character are same from a given \n",
    "# list of strings\n",
    "\n",
    "def karan(word):\n",
    "    abc = 0\n",
    "    \n",
    "    for i in word:\n",
    "        if len(i) > 1 and i[0] == i[-1]:\n",
    "            abc += 1\n",
    "    return abc\n",
    "\n",
    "print(karan(['abc','xyz','aba','1221']))\n",
    " "
   ]
  },
  {
   "cell_type": "code",
   "execution_count": null,
   "id": "bc61b5d2",
   "metadata": {},
   "outputs": [],
   "source": [
    "# 8.] Write a Python program to remove duplicates from a list.\n",
    "\n",
    "list1 = [12,13,1,2,3,88,12,1,88,90,99,3,78]\n",
    "list2 = []\n",
    "\n",
    "for i in list1:\n",
    "    if i not in list2:\n",
    "        list2.append(i)\n",
    "        \n",
    "list1 = list2\n",
    "print(list1)"
   ]
  },
  {
   "cell_type": "code",
   "execution_count": null,
   "id": "bd9ebcc6",
   "metadata": {},
   "outputs": [],
   "source": [
    "# 9.] Write a Python program to check a list is empty or not.\n",
    "\n",
    "list1 = []\n",
    "if not list1:\n",
    "    print(\"empty\")"
   ]
  },
  {
   "cell_type": "code",
   "execution_count": null,
   "id": "4b39a6db",
   "metadata": {},
   "outputs": [],
   "source": [
    "# 10.] Write a Python function that takes two lists and returns true if they have at least one common member.\n",
    "\n",
    "def data (list1, list2):\n",
    "    karan = False\n",
    "    for a in list1:\n",
    "        for b in list2:\n",
    "            if a == b:\n",
    "                karan = True\n",
    "                return karan\n",
    "print(data([1,2,3,4,5,6], [6,7,8,9,10]))\n"
   ]
  },
  {
   "cell_type": "code",
   "execution_count": null,
   "id": "5490667c",
   "metadata": {},
   "outputs": [],
   "source": [
    "# 11.]  Write a Python program to generate and print a list of first and last 5 \n",
    "#               elements where the values are square of numbers between 1 and 30.\n",
    "\n",
    "\n",
    "def karan():\n",
    "    list1 = list()\n",
    "    for i in range(1,21):\n",
    "        list1.append(i**2)\n",
    "        print(list1[:5])\n",
    "        print(list1[-5:])\n",
    "karan()        "
   ]
  },
  {
   "cell_type": "code",
   "execution_count": null,
   "id": "f85ece0c",
   "metadata": {},
   "outputs": [],
   "source": [
    "# 12.] Write a Python function that takes a list and returns a new list with unique \n",
    "       # elements of the first list.\n",
    "    \n",
    "def value(v):\n",
    "    x = []\n",
    "    for a in v:\n",
    "        if a not in x:\n",
    "            x.append(a)\n",
    "    return x\n",
    "print(value([1,2,5,5,5,5,6,7,7,8,9,4,4]))"
   ]
  },
  {
   "cell_type": "code",
   "execution_count": null,
   "id": "c7754d66",
   "metadata": {},
   "outputs": [],
   "source": [
    "# 13.] Write a Python program to convert a list of characters into a string.\n",
    "\n",
    "str1 = ['K', 'a', 'r', 'a','n']\n",
    "str2 = ''.join(str1)\n",
    "print(str2)"
   ]
  },
  {
   "cell_type": "code",
   "execution_count": null,
   "id": "d13ca542",
   "metadata": {},
   "outputs": [],
   "source": [
    "# 14.] Write a Python program to select an item randomly from a list."
   ]
  },
  {
   "cell_type": "code",
   "execution_count": null,
   "id": "3f6fa3f5",
   "metadata": {},
   "outputs": [],
   "source": [
    "# 15.] Write a Python program to find the second smallest number in a list.\n",
    "\n",
    "lst1 = [23,4,5,6,7,4,4,4,23,35,45,78,78]\n",
    "s1 = set(lst1)\n",
    "lst1 = list(s1)\n",
    "lst1.sort()\n",
    "print(lst1[1])"
   ]
  },
  {
   "cell_type": "code",
   "execution_count": null,
   "id": "293931c5",
   "metadata": {},
   "outputs": [],
   "source": [
    "# 16.] Write a Python program to get unique values from a list\n",
    "\n",
    "list1 = [10, 20, 30, 40, 20, 50, 60, 40]\n",
    "print(list1)\n",
    "list2 = set(list1)\n",
    "new_list = list(list2)\n",
    "print(new_list)"
   ]
  },
  {
   "cell_type": "code",
   "execution_count": null,
   "id": "5a341eea",
   "metadata": {},
   "outputs": [],
   "source": [
    "# 17.] Write a Python program to check whether a list contains a sub list\n",
    "            \n",
    "list1 = [1,2,3,5,4]\n",
    "sub_list = [5,4]\n",
    "    \n",
    "sub_idx = list1.index(sub_list[0])\n",
    "if list1[sub_idx : sub_idx + len(sub_list)] == sub_list:\n",
    "    print('It exists')\n",
    "else:\n",
    "   print('Not exists')"
   ]
  },
  {
   "cell_type": "code",
   "execution_count": null,
   "id": "6472d78d",
   "metadata": {},
   "outputs": [],
   "source": [
    "# 18.] Write a Python program to split a list into different variables.\n",
    "\n",
    "color = [(\"karan(50,90,88)\"), (\"Raj(80,40,78)\"),\n",
    "         (\"karushik(20,50,60)\")]\n",
    "var1, var2, var3 = color\n",
    "print(var1)\n",
    "print(var2)\n",
    "print(var3)"
   ]
  },
  {
   "cell_type": "code",
   "execution_count": null,
   "id": "a5915b52",
   "metadata": {},
   "outputs": [],
   "source": [
    "# Tuple:-\n",
    "\n",
    "\n",
    "# 1.] What is tuple? Difference between list and tuple.\n",
    "\n",
    "'''Tuple is also a sequence data type that can contain elements of different data types, but these are immutable in nature. \n",
    "   In other words, a tuple is a collection of Python objects separated by commas. \n",
    "   The tuple is faster than the list because of static in nature.''' \n",
    "\n",
    "=> They are both used to store collection of data\n",
    "=> They are both heterogeneous data types means that you can store any kind of data type\n",
    "=> They are both ordered means the order in which you put the items are kept.\n",
    "=> They are both sequential data types so you can iterate over the items contained.\n",
    "=> Items of both types can be accessed by an integer index operator, provided in square brackets, [index]"
   ]
  },
  {
   "cell_type": "code",
   "execution_count": null,
   "id": "d94c555a",
   "metadata": {},
   "outputs": [],
   "source": [
    "# 2.] Write a Python program to create a tuple with different data types.\n",
    "\n",
    "karan = (\"tuple\", False, 3.2, 1)\n",
    "print(karan)"
   ]
  },
  {
   "cell_type": "code",
   "execution_count": null,
   "id": "89591ebd",
   "metadata": {},
   "outputs": [],
   "source": [
    "# 3.] Write a Python program to create a tuple with numbers.\n",
    "\n",
    "karan = 1,2,3,4,5,6\n",
    "print(karan)\n",
    "karan = 1,\n",
    "print(karan)"
   ]
  },
  {
   "cell_type": "code",
   "execution_count": null,
   "id": "f4ded7b6",
   "metadata": {},
   "outputs": [],
   "source": [
    "# 4.] Write a Python program to convert a tuple to a string.\n",
    "\n",
    "tup1 = ('k','a','r','a','n')\n",
    "str = ''.join(tup1)\n",
    "print(str)"
   ]
  },
  {
   "cell_type": "code",
   "execution_count": null,
   "id": "cf9c56f0",
   "metadata": {},
   "outputs": [],
   "source": [
    "# 5.] Write a Python program to check whether an element exists within a tuple.\n",
    "\n",
    "abc = ('a','b',3,'t',5,'o','p',55)\n",
    "print('o' in abc)\n",
    "print(9 in abc)"
   ]
  },
  {
   "cell_type": "code",
   "execution_count": null,
   "id": "54196d4e",
   "metadata": {},
   "outputs": [],
   "source": [
    "# 6.] Write a Python program to find the length of a tuple.\n",
    "\n",
    "xyz = tuple(\"karan\")\n",
    "print(xyz)\n",
    "print(len(xyz))"
   ]
  },
  {
   "cell_type": "code",
   "execution_count": null,
   "id": "5fa2abfe",
   "metadata": {},
   "outputs": [],
   "source": [
    "# 7.] Write a Python program to convert a list to a tuple.\n",
    "\n",
    "list1 = [1,2,3,4,5,6,7,8,9,10]\n",
    "print(list1)\n",
    "tup1 = tuple(list1)\n",
    "print(tup1)"
   ]
  },
  {
   "cell_type": "code",
   "execution_count": null,
   "id": "808720fc",
   "metadata": {},
   "outputs": [],
   "source": [
    "# 8.] Write a Python program to reverse a tuple.\n",
    "\n",
    "abc = (5,6,7,8)\n",
    "rev = reversed(abc)\n",
    "rev = tuple(rev)\n",
    "print(rev)"
   ]
  },
  {
   "cell_type": "code",
   "execution_count": null,
   "id": "ae3a6bff",
   "metadata": {},
   "outputs": [],
   "source": [
    "# 9.] Write a Python program to replace last value of tuples in a list.\n",
    "\n",
    "t1 = [(5,6,7,8,9,0)]\n",
    "print([t[:-1] + (10,) for t in t1])"
   ]
  },
  {
   "cell_type": "code",
   "execution_count": null,
   "id": "3b6ef430",
   "metadata": {},
   "outputs": [],
   "source": [
    "# 10.] Write a Python program to find the repeated items of a tuple.\n",
    "\n",
    "t1 = (5,6,4,4,8,8,8,8,1,2,8,7)\n",
    "print(t1.count(8))"
   ]
  },
  {
   "cell_type": "code",
   "execution_count": 6,
   "id": "39cbdb23",
   "metadata": {},
   "outputs": [
    {
     "name": "stdout",
     "output_type": "stream",
     "text": [
      "[('',), 'k', 'a', ('a', 'z', 'm')]\n"
     ]
    }
   ],
   "source": [
    "# 11.] Write a Python program to remove an empty tuple(s) from a list of tuples.\n",
    "\n",
    "K = [(), (), ('',), ('k'), ('a'), ('a','z','m')]\n",
    "K = [t for t in K if t]\n",
    "print(K)"
   ]
  },
  {
   "cell_type": "code",
   "execution_count": 10,
   "id": "96624fc2",
   "metadata": {},
   "outputs": [
    {
     "name": "stdout",
     "output_type": "stream",
     "text": [
      "[('karan', 1), ('Bhano', 2), ('sahiliyo', 3), ('jeelyo', 4)]\n",
      "[['karan', 'Bhano', 'sahiliyo', 'jeelyo'], [1, 2, 3, 4]]\n"
     ]
    }
   ],
   "source": [
    "# 12.] Write a Python program to unzip a list of tuples into individual lists.\n",
    "\n",
    "\n",
    "test_list = [('karan', 1), ('Bhano', 2), ('sahiliyo', 3), ('jeelyo', 4)]\n",
    "print (str(test_list))\n",
    "res = [[ i for i, j in test_list ],\n",
    "       [ j for i, j in test_list ]]\n",
    "print (str(res))"
   ]
  },
  {
   "cell_type": "code",
   "execution_count": 11,
   "id": "43d7f8e1",
   "metadata": {},
   "outputs": [
    {
     "name": "stdout",
     "output_type": "stream",
     "text": [
      "{'x': [1, 2, 3], 'y': [1, 2], 'z': [1]}\n"
     ]
    }
   ],
   "source": [
    "# Dictionary:-\n",
    "\n",
    "# 1.] Write a Python program to convert a list of tuples into a dictionary.\n",
    "\n",
    "l = [(\"x\", 1), (\"x\", 2), (\"x\", 3), (\"y\", 1), (\"y\", 2), (\"z\", 1)]\n",
    "d = {}\n",
    "for a, b in l:\n",
    "    d.setdefault(a, []).append(b)\n",
    "print (d)"
   ]
  },
  {
   "cell_type": "code",
   "execution_count": 12,
   "id": "9a7c245a",
   "metadata": {},
   "outputs": [
    {
     "name": "stdout",
     "output_type": "stream",
     "text": [
      "{'karan': 2, 'raj': 3}\n"
     ]
    }
   ],
   "source": [
    "# 2.] How will you create a dictionary using tuples in python?\n",
    "\n",
    "t1 = ((500, \"karan\"),(300, \"raj\"))\n",
    "print(dict((y, x) for x, y in t1))"
   ]
  },
  {
   "cell_type": "code",
   "execution_count": 4,
   "id": "db0dfe2f",
   "metadata": {},
   "outputs": [
    {
     "ename": "AttributeError",
     "evalue": "'list' object has no attribute 'list'",
     "output_type": "error",
     "traceback": [
      "\u001b[1;31m---------------------------------------------------------------------------\u001b[0m",
      "\u001b[1;31mAttributeError\u001b[0m                            Traceback (most recent call last)",
      "Input \u001b[1;32mIn [4]\u001b[0m, in \u001b[0;36m<cell line: 4>\u001b[1;34m()\u001b[0m\n\u001b[0;32m      1\u001b[0m \u001b[38;5;66;03m# 3.]  Write a Python script to sort (ascending and descending) a dictionary by value.\u001b[39;00m\n\u001b[0;32m      3\u001b[0m list1 \u001b[38;5;241m=\u001b[39m [(\u001b[38;5;124m'\u001b[39m\u001b[38;5;124ma\u001b[39m\u001b[38;5;124m'\u001b[39m,\u001b[38;5;241m1\u001b[39m),(\u001b[38;5;124m'\u001b[39m\u001b[38;5;124mb\u001b[39m\u001b[38;5;124m'\u001b[39m,\u001b[38;5;241m2\u001b[39m),(\u001b[38;5;124m'\u001b[39m\u001b[38;5;124mc\u001b[39m\u001b[38;5;124m'\u001b[39m,\u001b[38;5;241m3\u001b[39m),(\u001b[38;5;124m'\u001b[39m\u001b[38;5;124md\u001b[39m\u001b[38;5;124m'\u001b[39m,\u001b[38;5;241m4\u001b[39m)]\n\u001b[1;32m----> 4\u001b[0m \u001b[43mlist1\u001b[49m\u001b[38;5;241;43m.\u001b[39;49m\u001b[43mlist\u001b[49m(list1\u001b[38;5;241m.\u001b[39mitems)\n",
      "\u001b[1;31mAttributeError\u001b[0m: 'list' object has no attribute 'list'"
     ]
    }
   ],
   "source": [
    "# 3.]  Write a Python script to sort (ascending and descending) a dictionary by value.\n"
   ]
  },
  {
   "cell_type": "code",
   "execution_count": 1,
   "id": "2765a538",
   "metadata": {},
   "outputs": [
    {
     "name": "stdout",
     "output_type": "stream",
     "text": [
      "{1: 10, 2: 20, 3: 30, 4: 40, 5: 50, 6: 60}\n"
     ]
    }
   ],
   "source": [
    "# 4.] Write a Python script to concatenate following dictionaries to create a new one.\n",
    "\n",
    "dic1={1:10, 2:20}\n",
    "dic2={3:30, 4:40}\n",
    "dic3={5:50,6:60}\n",
    "dic4 = {}\n",
    "for d in (dic1, dic2, dic3): dic4.update(d)\n",
    "print(dic4)"
   ]
  },
  {
   "cell_type": "code",
   "execution_count": 3,
   "id": "214e8ce7",
   "metadata": {},
   "outputs": [
    {
     "name": "stdout",
     "output_type": "stream",
     "text": [
      "Key is exists\n",
      "Key is not exists\n"
     ]
    }
   ],
   "source": [
    "# 5.] Write a Python script to check if a given key already exists in a dictionary.\n",
    "\n",
    "d = {1: 10, 2: 20, 3: 30, 4: 40, 5: 50, 6: 60}\n",
    "def yes(x):\n",
    "    if x in d:\n",
    "        print('Key is exists')\n",
    "    else:\n",
    "        print('Key is not exists')\n",
    "yes(5)\n",
    "yes(9)"
   ]
  },
  {
   "cell_type": "code",
   "execution_count": 13,
   "id": "a2f34481",
   "metadata": {},
   "outputs": [
    {
     "name": "stdout",
     "output_type": "stream",
     "text": [
      "['karan', 'jay', 'bhano']\n"
     ]
    }
   ],
   "source": [
    "# 6.]  How Do You Traverse Through A Dictionary Object In Python?\n",
    "\n",
    "dict1 = {1:\"karan\",2:\"jay\",3:\"bhano\"}\n",
    "l1 =list(dict1.values())\n",
    "print(l1)"
   ]
  },
  {
   "cell_type": "code",
   "execution_count": 14,
   "id": "86aeac69",
   "metadata": {},
   "outputs": [
    {
     "name": "stdout",
     "output_type": "stream",
     "text": [
      "presence\n"
     ]
    }
   ],
   "source": [
    "# 7.] How Do You Check The Presence Of A Key In A Dictionary?\n",
    "\n",
    "dict1 = {\"a\": 1, \"b\":2, \"c\":3}\n",
    "if \"a\" in dict1:\n",
    "    print(\"presence\")\n",
    "else:\n",
    "    print(\"not presence\")"
   ]
  },
  {
   "cell_type": "code",
   "execution_count": 15,
   "id": "d7a2a3fb",
   "metadata": {},
   "outputs": [
    {
     "name": "stdout",
     "output_type": "stream",
     "text": [
      "{1: 1, 2: 4, 3: 9, 4: 16, 5: 25, 6: 36, 7: 49, 8: 64, 9: 81, 10: 100, 11: 121, 12: 144, 13: 169, 14: 196, 15: 225}\n"
     ]
    }
   ],
   "source": [
    "# 8.] Write a Python script to print a dictionary where the keys are numbers between 1 and 15.\n",
    "\n",
    "d=dict()\n",
    "for x in range(1,16):\n",
    "    d[x]=x**2\n",
    "print(d)"
   ]
  },
  {
   "cell_type": "code",
   "execution_count": 17,
   "id": "064e8446",
   "metadata": {},
   "outputs": [
    {
     "name": "stdout",
     "output_type": "stream",
     "text": [
      "True\n",
      "False\n"
     ]
    }
   ],
   "source": [
    "# 9.] Write a Python program to check multiple keys exists in a dictionary\n",
    "\n",
    "student = {\n",
    "  'name': 'Karan',\n",
    "  'class': '12',\n",
    "  'roll': '52'\n",
    "}\n",
    "print(student.keys() >= {'class', 'name'})\n",
    "print(student.keys() >= {'name', 'Karan'})"
   ]
  },
  {
   "cell_type": "code",
   "execution_count": 18,
   "id": "860e7574",
   "metadata": {},
   "outputs": [
    {
     "name": "stdout",
     "output_type": "stream",
     "text": [
      "{'a': 100, 'b': 200, 'c': 300, 'd': 200}\n"
     ]
    }
   ],
   "source": [
    "# 10.] Write a Python script to merge two Python dictionaries\n",
    "\n",
    "dic1 = {'a': 100, 'b': 200}\n",
    "dic2 = {'c': 300, 'd': 200}\n",
    "d = dic1.copy()\n",
    "d.update(dic2)\n",
    "print(d)"
   ]
  },
  {
   "cell_type": "code",
   "execution_count": 21,
   "id": "9c22cc54",
   "metadata": {},
   "outputs": [
    {
     "name": "stdout",
     "output_type": "stream",
     "text": [
      "['Karan', 'Raj', 'Viraj']\n",
      "[1, 4, 5]\n",
      "{'Karan': 1, 'Raj': 4, 'Viraj': 5}\n"
     ]
    }
   ],
   "source": [
    "# 11.] Write a Python program to map two lists into a dictionary\n",
    "\n",
    "dic1 = [\"Karan\", \"Raj\", \"Viraj\"]\n",
    "dic2 = [1, 4, 5]\n",
    "  \n",
    "print (str(dic1))\n",
    "print (str(dic2))\n",
    "  \n",
    "res = {}\n",
    "for key in dic1:\n",
    "    for value in dic2:\n",
    "        res[key] = value\n",
    "        dic2.remove(value)\n",
    "        break   \n",
    "print (str(res))"
   ]
  },
  {
   "cell_type": "code",
   "execution_count": 22,
   "id": "55129640",
   "metadata": {},
   "outputs": [
    {
     "name": "stdout",
     "output_type": "stream",
     "text": [
      "{'a': 400, 'b': 400}\n"
     ]
    }
   ],
   "source": [
    "# 12.] Write a Python program to combine two dictionary adding values for \n",
    "# common keys.\n",
    "# o d1 = {'a': 100, 'b': 200, 'c':300}\n",
    "# o d2 = {'a': 300, 'b': 200,’d’:400}\n",
    "\n",
    "d1 = {'a': 100, 'b': 200, 'c':300}\n",
    "\n",
    "d2 = {'a': 300, 'b': 200, 'd':400}\n",
    "\n",
    "d3 = {}\n",
    "\n",
    "for i, j in d1.items():\n",
    "\n",
    "    for x, y in d2.items():\n",
    "\n",
    "        if i == x:\n",
    "\n",
    "            d3[i]=(j+y)\n",
    "\n",
    "print(d3)"
   ]
  },
  {
   "cell_type": "code",
   "execution_count": 23,
   "id": "fc62a234",
   "metadata": {},
   "outputs": [
    {
     "ename": "TypeError",
     "evalue": "unsupported operand type(s) for +: 'dict' and 'dict'",
     "output_type": "error",
     "traceback": [
      "\u001b[1;31m---------------------------------------------------------------------------\u001b[0m",
      "\u001b[1;31mTypeError\u001b[0m                                 Traceback (most recent call last)",
      "Input \u001b[1;32mIn [23]\u001b[0m, in \u001b[0;36m<cell line: 5>\u001b[1;34m()\u001b[0m\n\u001b[0;32m      3\u001b[0m d1 \u001b[38;5;241m=\u001b[39m {\u001b[38;5;124m'\u001b[39m\u001b[38;5;124ma\u001b[39m\u001b[38;5;124m'\u001b[39m: \u001b[38;5;241m100\u001b[39m, \u001b[38;5;124m'\u001b[39m\u001b[38;5;124mb\u001b[39m\u001b[38;5;124m'\u001b[39m: \u001b[38;5;241m200\u001b[39m, \u001b[38;5;124m'\u001b[39m\u001b[38;5;124mc\u001b[39m\u001b[38;5;124m'\u001b[39m:\u001b[38;5;241m300\u001b[39m}\n\u001b[0;32m      4\u001b[0m d2 \u001b[38;5;241m=\u001b[39m {\u001b[38;5;124m'\u001b[39m\u001b[38;5;124ma\u001b[39m\u001b[38;5;124m'\u001b[39m: \u001b[38;5;241m300\u001b[39m, \u001b[38;5;124m'\u001b[39m\u001b[38;5;124mb\u001b[39m\u001b[38;5;124m'\u001b[39m: \u001b[38;5;241m200\u001b[39m, \u001b[38;5;124m'\u001b[39m\u001b[38;5;124md\u001b[39m\u001b[38;5;124m'\u001b[39m:\u001b[38;5;241m400\u001b[39m}\n\u001b[1;32m----> 5\u001b[0m d \u001b[38;5;241m=\u001b[39m \u001b[43m(\u001b[49m\u001b[43md1\u001b[49m\u001b[43m)\u001b[49m\u001b[43m \u001b[49m\u001b[38;5;241;43m+\u001b[39;49m\u001b[43m \u001b[49m\u001b[43m(\u001b[49m\u001b[43md2\u001b[49m\u001b[43m)\u001b[49m\n\u001b[0;32m      6\u001b[0m \u001b[38;5;28mprint\u001b[39m(d)\n",
      "\u001b[1;31mTypeError\u001b[0m: unsupported operand type(s) for +: 'dict' and 'dict'"
     ]
    }
   ],
   "source": [
    "# 13.] Sample output: Counter ({'a': 400, 'b': 400,’d’: 400, 'c': 300}).\n",
    "\n",
    "d1 = {'a': 100, 'b': 200, 'c':300}\n",
    "d2 = {'a': 300, 'b': 200, 'd':400}\n",
    "d = (d1) + (d2)\n",
    "print(d)"
   ]
  },
  {
   "cell_type": "code",
   "execution_count": 27,
   "id": "9dab5ff1",
   "metadata": {},
   "outputs": [
    {
     "name": "stdout",
     "output_type": "stream",
     "text": [
      "[1, 2, 3]\n"
     ]
    }
   ],
   "source": [
    "# 14.] Write a Python program to print all unique values in a dictionary.\n",
    "\n",
    "list1 = [{'xuv' : 1, 'bmw' : 2}, {'audi' : 1, 'scross' : 3}, {'cr' : 2}]\n",
    "abc = list(set(val for dic in list1 for val in dic.values()))\n",
    "print(str(abc))"
   ]
  },
  {
   "cell_type": "code",
   "execution_count": 30,
   "id": "8e62c50f",
   "metadata": {},
   "outputs": [
    {
     "name": "stdout",
     "output_type": "stream",
     "text": [
      "<zip object at 0x00000293314FCFC0>\n"
     ]
    }
   ],
   "source": [
    "# 15.] Why Do You Use the Zip () Method in Python?\n",
    "\n",
    "'''Python's zip() function creates an iterator that will aggregate elements from two or more iterables. \n",
    "You can use the resulting iterator to quickly and consistently solve common programming problems,\n",
    "like creating dictionaries.'''\n",
    "\n",
    "# Ex:-\n"
   ]
  },
  {
   "cell_type": "code",
   "execution_count": 3,
   "id": "447cec5f",
   "metadata": {},
   "outputs": [
    {
     "name": "stdout",
     "output_type": "stream",
     "text": [
      "[['a', 'b'], ['c', 'd']]\n",
      "ac\n",
      "bd\n",
      "bc\n",
      "bd\n"
     ]
    }
   ],
   "source": [
    "# 16.]Write a Python program to create and display all combinations of letters,\n",
    "# selecting each letter from a different key in a dictionary.\n",
    "# o Sample data: {'1': ['a','b'], '2': ['c','d']}\n",
    "# o Expected Output:\n",
    "# o ac ad bc bd\n",
    "count = 0\n",
    "dic = {'1':['a','b'], '2':['c','d']}   \n",
    "l = list(dic.values())\n",
    "print(l)\n",
    "\n",
    "count = 0\n",
    "j = 0\n",
    "for i in range(0,len(l[0])*len(l[1])):\n",
    "    if count >= len([1]):\n",
    "        print(l[0][1] + l[1][j])\n",
    "        j = j+1\n",
    "        if j == len(l[1]):\n",
    "            j = 0\n",
    "    else:\n",
    "        print(l[0][0] + l[1][j])\n",
    "        j = j+1\n",
    "        if j == len(l[1]):\n",
    "            j = 0\n",
    "    count = count +1"
   ]
  },
  {
   "cell_type": "code",
   "execution_count": 5,
   "id": "6400e39d",
   "metadata": {},
   "outputs": [
    {
     "name": "stdout",
     "output_type": "stream",
     "text": [
      "Enter a dictionary :-80,55,60\n"
     ]
    },
    {
     "ename": "AttributeError",
     "evalue": "'tuple' object has no attribute 'values'",
     "output_type": "error",
     "traceback": [
      "\u001b[1;31m---------------------------------------------------------------------------\u001b[0m",
      "\u001b[1;31mAttributeError\u001b[0m                            Traceback (most recent call last)",
      "Input \u001b[1;32mIn [5]\u001b[0m, in \u001b[0;36m<cell line: 4>\u001b[1;34m()\u001b[0m\n\u001b[0;32m      1\u001b[0m \u001b[38;5;66;03m# 17.]  Write a Python program to find the highest 3 values in a dictionary\u001b[39;00m\n\u001b[0;32m      3\u001b[0m dic \u001b[38;5;241m=\u001b[39m \u001b[38;5;28meval\u001b[39m(\u001b[38;5;28minput\u001b[39m(\u001b[38;5;124m\"\u001b[39m\u001b[38;5;124mEnter a dictionary :-\u001b[39m\u001b[38;5;124m\"\u001b[39m))\n\u001b[1;32m----> 4\u001b[0m val \u001b[38;5;241m=\u001b[39m \u001b[38;5;28mlist\u001b[39m( \u001b[43mdic\u001b[49m\u001b[38;5;241;43m.\u001b[39;49m\u001b[43mvalues\u001b[49m() )\n\u001b[0;32m      5\u001b[0m val\u001b[38;5;241m.\u001b[39msort()\n\u001b[0;32m      6\u001b[0m \u001b[38;5;28mprint\u001b[39m(\u001b[38;5;124m\"\u001b[39m\u001b[38;5;124mHighest 3 values \u001b[39m\u001b[38;5;124m\"\u001b[39m,val[ \u001b[38;5;241m-\u001b[39m \u001b[38;5;241m1\u001b[39m : \u001b[38;5;241m-\u001b[39m \u001b[38;5;241m4\u001b[39m : \u001b[38;5;241m-\u001b[39m \u001b[38;5;241m1\u001b[39m])\n",
      "\u001b[1;31mAttributeError\u001b[0m: 'tuple' object has no attribute 'values'"
     ]
    }
   ],
   "source": [
    "# 17.]  Write a Python program to find the highest 3 values in a dictionary\n",
    "\n"
   ]
  },
  {
   "cell_type": "code",
   "execution_count": 7,
   "id": "3eb78707",
   "metadata": {},
   "outputs": [
    {
     "name": "stdout",
     "output_type": "stream",
     "text": [
      "{'item1': 400, 'item2': 300}\n"
     ]
    }
   ],
   "source": [
    "# 18.]  Write a Python program to combine values in python list of dictionaries. \n",
    "#Sample data: [{'item': 'item1', 'amount': 400}, {'item': 'item2', 'amount': 300},\n",
    "# o {'item': 'item1', 'amount': 750}]\n",
    "# o Expected Output: Counter ({'item1': 1150, 'item2': 300})\n",
    "\n",
    "a=[{'item': 'item1', 'amount': 400}, {'item': 'item2', 'amount': 300}, {'item': 'item1', 'amount': 750}]    \n",
    "cp={}\n",
    "val=0\n",
    "for d in a:\n",
    "    if d['item'] not in cp:\n",
    "        cp[d['item']]=d['amount']\n",
    "print(cp) "
   ]
  },
  {
   "cell_type": "code",
   "execution_count": 9,
   "id": "ea5d4b76",
   "metadata": {},
   "outputs": [
    {
     "name": "stdout",
     "output_type": "stream",
     "text": [
      "{'w': 1, '3': 1, 'r': 2, 'e': 2, 's': 1, 'o': 1, 'u': 1, 'c': 1}\n"
     ]
    }
   ],
   "source": [
    "# 19.] Write a Python program to create a dictionary from a string.\n",
    "#o Note: Track the count of the letters from the string. Sample string:'w3resource'\n",
    "#o Expected output: {'3': 1,’s’: 1, 'r': 2, 'u': 1, 'w': 1, 'c': 1, 'e': 2, 'o': 1}\n",
    "\n",
    "my_string = 'w3resource'\n",
    "\n",
    "my_dict = {letter: my_string.count(letter) for letter in my_string}\n",
    "print(my_dict)"
   ]
  },
  {
   "cell_type": "code",
   "execution_count": 11,
   "id": "765d3277",
   "metadata": {},
   "outputs": [
    {
     "name": "stdout",
     "output_type": "stream",
     "text": [
      "4\n",
      "24\n"
     ]
    }
   ],
   "source": [
    "# Function:-\n",
    "\n",
    "# 1.] Write a Python function to calculate the factorial of a number (a non-negative integer)\n",
    "\n",
    "def abc(n):\n",
    "    if n == 0:\n",
    "        return 1\n",
    "    else:\n",
    "        return n * abc(n-1)\n",
    "n=int(input())\n",
    "print(abc(n))"
   ]
  },
  {
   "cell_type": "code",
   "execution_count": null,
   "id": "c6d3b225",
   "metadata": {},
   "outputs": [],
   "source": []
  }
 ],
 "metadata": {
  "kernelspec": {
   "display_name": "Python 3 (ipykernel)",
   "language": "python",
   "name": "python3"
  },
  "language_info": {
   "codemirror_mode": {
    "name": "ipython",
    "version": 3
   },
   "file_extension": ".py",
   "mimetype": "text/x-python",
   "name": "python",
   "nbconvert_exporter": "python",
   "pygments_lexer": "ipython3",
   "version": "3.9.12"
  }
 },
 "nbformat": 4,
 "nbformat_minor": 5
}
